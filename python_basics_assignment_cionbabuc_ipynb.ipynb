{
  "cells": [
    {
      "cell_type": "markdown",
      "id": "d2328cad",
      "metadata": {
        "id": "d2328cad"
      },
      "source": [
        "# Python Basics Assignment\n",
        "\n",
        "This notebook contains 20 basic Python questions.  \n",
        "Each question carries **1 mark**. Write your answer in the cell provided.  \n"
      ]
    },
    {
      "cell_type": "markdown",
      "id": "cb537954",
      "metadata": {
        "id": "cb537954"
      },
      "source": [
        "### Question 1\n",
        "Write a function that returns the square of a number."
      ]
    },
    {
      "cell_type": "code",
      "execution_count": null,
      "id": "cf213ba2",
      "metadata": {
        "colab": {
          "base_uri": "https://localhost:8080/"
        },
        "id": "cf213ba2",
        "outputId": "50601978-9bf3-424f-9660-b37e3a54ff35"
      },
      "outputs": [
        {
          "output_type": "stream",
          "name": "stdout",
          "text": [
            "36\n"
          ]
        }
      ],
      "source": [
        "def square(number):\n",
        "    return number * number\n",
        "print(square(6))\n",
        "def your_function_1():\n",
        "    pass"
      ]
    },
    {
      "cell_type": "markdown",
      "id": "4eaff430",
      "metadata": {
        "id": "4eaff430"
      },
      "source": [
        "### Question 2\n",
        "Write a function that checks whether a number is even."
      ]
    },
    {
      "cell_type": "code",
      "execution_count": null,
      "id": "81934cf7",
      "metadata": {
        "colab": {
          "base_uri": "https://localhost:8080/"
        },
        "id": "81934cf7",
        "outputId": "471b410b-a60e-4069-c70c-bafe4ca5190d"
      },
      "outputs": [
        {
          "output_type": "stream",
          "name": "stdout",
          "text": [
            "True\n"
          ]
        }
      ],
      "source": [
        "def is_even(number):\n",
        "    return number % 2 == 0\n",
        "print(is_even(6))\n",
        "def your_function_2():\n",
        "    pass"
      ]
    },
    {
      "cell_type": "markdown",
      "id": "5f061e50",
      "metadata": {
        "id": "5f061e50"
      },
      "source": [
        "### Question 3\n",
        "Write a function to return the maximum of two numbers."
      ]
    },
    {
      "cell_type": "code",
      "execution_count": null,
      "id": "44e2a596",
      "metadata": {
        "colab": {
          "base_uri": "https://localhost:8080/"
        },
        "id": "44e2a596",
        "outputId": "26842e5a-2595-4bdf-e2aa-68dcc3125a93"
      },
      "outputs": [
        {
          "output_type": "stream",
          "name": "stdout",
          "text": [
            "6\n"
          ]
        }
      ],
      "source": [
        "def max(number1,number2):\n",
        "  if number1 > number2:\n",
        "    return number1\n",
        "  else:\n",
        "    return number2\n",
        "print(max(5,6))\n",
        "def your_function_3():\n",
        "    pass"
      ]
    },
    {
      "cell_type": "markdown",
      "id": "7513ca91",
      "metadata": {
        "id": "7513ca91"
      },
      "source": [
        "### Question 4\n",
        "Write a function to return the factorial of a number."
      ]
    },
    {
      "cell_type": "code",
      "execution_count": null,
      "id": "6617842f",
      "metadata": {
        "colab": {
          "base_uri": "https://localhost:8080/"
        },
        "id": "6617842f",
        "outputId": "fdd64477-1f79-4f77-abb4-1a1def9f2c31"
      },
      "outputs": [
        {
          "output_type": "stream",
          "name": "stdout",
          "text": [
            "120\n"
          ]
        }
      ],
      "source": [
        "def factorial(number):\n",
        "  if number == 1:\n",
        "    return 1\n",
        "  else:\n",
        "    return number * factorial(number - 1)\n",
        "print(factorial(5))\n",
        "def your_function_4():\n",
        "    pass"
      ]
    },
    {
      "cell_type": "markdown",
      "id": "9b942098",
      "metadata": {
        "id": "9b942098"
      },
      "source": [
        "### Question 5\n",
        "Write a function to reverse a string."
      ]
    },
    {
      "cell_type": "code",
      "execution_count": null,
      "id": "d606b194",
      "metadata": {
        "colab": {
          "base_uri": "https://localhost:8080/"
        },
        "id": "d606b194",
        "outputId": "63c01337-88d1-478c-f1ec-f0388f352f65"
      },
      "outputs": [
        {
          "output_type": "stream",
          "name": "stdout",
          "text": [
            "olleh\n"
          ]
        }
      ],
      "source": [
        "def reverse(string):\n",
        "  return string[::-1]\n",
        "print(reverse(\"hello\"))\n",
        "def your_function_5():\n",
        "    pass"
      ]
    },
    {
      "cell_type": "markdown",
      "id": "1abd915b",
      "metadata": {
        "id": "1abd915b"
      },
      "source": [
        "### Question 6\n",
        "Write a function to check if a string is a palindrome."
      ]
    },
    {
      "cell_type": "code",
      "execution_count": null,
      "id": "2b868fb3",
      "metadata": {
        "colab": {
          "base_uri": "https://localhost:8080/"
        },
        "id": "2b868fb3",
        "outputId": "56531342-76f0-485f-97f3-7cb3f6dacca5"
      },
      "outputs": [
        {
          "output_type": "stream",
          "name": "stdout",
          "text": [
            "True\n"
          ]
        }
      ],
      "source": [
        "def is_palindrome(string):\n",
        "  return string == string[::-1]\n",
        "print(is_palindrome(\"racecar\"))\n",
        "def your_function_6():\n",
        "    pass"
      ]
    },
    {
      "cell_type": "markdown",
      "id": "5f2f3791",
      "metadata": {
        "id": "5f2f3791"
      },
      "source": [
        "### Question 7\n",
        "Write a function to count vowels in a string."
      ]
    },
    {
      "cell_type": "code",
      "execution_count": null,
      "id": "73fefa50",
      "metadata": {
        "colab": {
          "base_uri": "https://localhost:8080/"
        },
        "id": "73fefa50",
        "outputId": "0ee26b91-5517-4d7b-ed76-15016f5c2681"
      },
      "outputs": [
        {
          "output_type": "stream",
          "name": "stdout",
          "text": [
            "2\n"
          ]
        }
      ],
      "source": [
        "def count_vowels(string):\n",
        "  vowels = \"aeiouAEIOU\"\n",
        "  count = 0\n",
        "  for char in string:\n",
        "    if char in vowels:\n",
        "      count += 1\n",
        "  return count\n",
        "print(count_vowels(\"hello\"))\n",
        "def your_function_7():\n",
        "    pass"
      ]
    },
    {
      "cell_type": "markdown",
      "id": "0d3a9996",
      "metadata": {
        "id": "0d3a9996"
      },
      "source": [
        "### Question 8\n",
        "Write a function that returns the sum of a list."
      ]
    },
    {
      "cell_type": "code",
      "execution_count": null,
      "id": "ab6afc66",
      "metadata": {
        "colab": {
          "base_uri": "https://localhost:8080/"
        },
        "id": "ab6afc66",
        "outputId": "26c2267c-c6ec-4ef8-de8d-a9d77df5c41b"
      },
      "outputs": [
        {
          "output_type": "stream",
          "name": "stdout",
          "text": [
            "15\n"
          ]
        }
      ],
      "source": [
        "def sum_list(list):\n",
        "  sum = 0\n",
        "  for num in list:\n",
        "    sum += num\n",
        "  return sum\n",
        "print(sum_list([1,2,3,4,5]))\n",
        "def your_function_8():\n",
        "    pass"
      ]
    },
    {
      "cell_type": "markdown",
      "id": "f6682500",
      "metadata": {
        "id": "f6682500"
      },
      "source": [
        "### Question 9\n",
        "Write a function to find the smallest number in a list."
      ]
    },
    {
      "cell_type": "code",
      "execution_count": null,
      "id": "6798a641",
      "metadata": {
        "colab": {
          "base_uri": "https://localhost:8080/"
        },
        "id": "6798a641",
        "outputId": "ec5c1f05-b45b-4578-a80e-2a3b3ab2fb22"
      },
      "outputs": [
        {
          "output_type": "stream",
          "name": "stdout",
          "text": [
            "1\n"
          ]
        }
      ],
      "source": [
        "def find_smallest(numbers):\n",
        "    return min(numbers)\n",
        "numbers = [10, 5, 3, 8, 1]\n",
        "print(find_smallest(numbers))\n",
        "def your_function_9():\n",
        "    pass"
      ]
    },
    {
      "cell_type": "markdown",
      "id": "fb11e683",
      "metadata": {
        "id": "fb11e683"
      },
      "source": [
        "### Question 10\n",
        "Write a function to remove duplicates from a list."
      ]
    },
    {
      "cell_type": "code",
      "execution_count": null,
      "id": "7c53f88c",
      "metadata": {
        "colab": {
          "base_uri": "https://localhost:8080/"
        },
        "id": "7c53f88c",
        "outputId": "99018901-0cb2-48e9-af9e-ac57e41abce6"
      },
      "outputs": [
        {
          "output_type": "stream",
          "name": "stdout",
          "text": [
            "[1, 2, 3, 4, 5]\n"
          ]
        }
      ],
      "source": [
        "def remove_duplicates(lst):\n",
        "    return list(set(lst))\n",
        "numbers = [1, 2, 2, 3, 4, 4, 5]\n",
        "print(remove_duplicates(numbers))\n",
        "def your_function_10():\n",
        "    pass"
      ]
    },
    {
      "cell_type": "markdown",
      "id": "9c380a5c",
      "metadata": {
        "id": "9c380a5c"
      },
      "source": [
        "### Question 11\n",
        "Write a function to sort a list in ascending order."
      ]
    },
    {
      "cell_type": "code",
      "execution_count": 1,
      "id": "8e43832f",
      "metadata": {
        "id": "8e43832f",
        "colab": {
          "base_uri": "https://localhost:8080/"
        },
        "outputId": "4a82e71c-94f9-4f7b-b170-139311c82725"
      },
      "outputs": [
        {
          "output_type": "stream",
          "name": "stdout",
          "text": [
            "[1, 2, 5, 7, 9]\n"
          ]
        }
      ],
      "source": [
        "def sort_ascending(lst):\n",
        "    return sorted(lst)\n",
        "numbers = [5, 2, 9, 1, 7]\n",
        "print(sort_ascending(numbers))\n",
        "def your_function_11():\n",
        "    pass"
      ]
    },
    {
      "cell_type": "markdown",
      "id": "1270c91c",
      "metadata": {
        "id": "1270c91c"
      },
      "source": [
        "### Question 12\n",
        "Write a function that returns the length of a string."
      ]
    },
    {
      "cell_type": "code",
      "execution_count": 3,
      "id": "87f35472",
      "metadata": {
        "id": "87f35472",
        "colab": {
          "base_uri": "https://localhost:8080/"
        },
        "outputId": "164e6c18-c0c6-483e-eb01-8e7c8e07faea"
      },
      "outputs": [
        {
          "output_type": "stream",
          "name": "stdout",
          "text": [
            "5\n"
          ]
        }
      ],
      "source": [
        "def string_length(text):\n",
        "    return len(text)\n",
        "print(string_length(\"hello\"))\n",
        "def your_function_12():\n",
        "    pass"
      ]
    },
    {
      "cell_type": "markdown",
      "id": "9a8e3d28",
      "metadata": {
        "id": "9a8e3d28"
      },
      "source": [
        "### Question 13\n",
        "Write a function to count words in a sentence."
      ]
    },
    {
      "cell_type": "code",
      "execution_count": 4,
      "id": "e6f996ef",
      "metadata": {
        "id": "e6f996ef",
        "colab": {
          "base_uri": "https://localhost:8080/"
        },
        "outputId": "e45cc7fb-bfed-410c-b650-258ce59ad5ee"
      },
      "outputs": [
        {
          "output_type": "stream",
          "name": "stdout",
          "text": [
            "2\n"
          ]
        }
      ],
      "source": [
        "def count_words(sentence):\n",
        "    return len(sentence.split())\n",
        "print(count_words(\"hello world\"))\n",
        "def your_function_13():\n",
        "    pass"
      ]
    },
    {
      "cell_type": "markdown",
      "id": "430c2e4a",
      "metadata": {
        "id": "430c2e4a"
      },
      "source": [
        "### Question 14\n",
        "Write a function to convert Celsius to Fahrenheit."
      ]
    },
    {
      "cell_type": "code",
      "execution_count": 5,
      "id": "b710b0bd",
      "metadata": {
        "id": "b710b0bd",
        "colab": {
          "base_uri": "https://localhost:8080/"
        },
        "outputId": "82e228c1-d499-419c-c779-7334c6f9c31e"
      },
      "outputs": [
        {
          "output_type": "stream",
          "name": "stdout",
          "text": [
            "32.0\n"
          ]
        }
      ],
      "source": [
        "def celsius_to_fahrenheit(celsius):\n",
        "    return (celsius * 9/5) + 32\n",
        "print(celsius_to_fahrenheit(0))\n",
        "def your_function_14():\n",
        "    pass"
      ]
    },
    {
      "cell_type": "markdown",
      "id": "acefe5e3",
      "metadata": {
        "id": "acefe5e3"
      },
      "source": [
        "### Question 15\n",
        "Write a function to check if a number is prime."
      ]
    },
    {
      "cell_type": "code",
      "execution_count": 8,
      "id": "b700abae",
      "metadata": {
        "id": "b700abae",
        "colab": {
          "base_uri": "https://localhost:8080/"
        },
        "outputId": "3a29cda2-9e0b-45e0-9124-1927188ce5ae"
      },
      "outputs": [
        {
          "output_type": "stream",
          "name": "stdout",
          "text": [
            "True\n"
          ]
        }
      ],
      "source": [
        "def is_prime(number):\n",
        "    if number < 2:\n",
        "        return False\n",
        "    for i in range(2, int(number ** 0.5) + 1):\n",
        "        if number % i == 0:\n",
        "            return False\n",
        "    return True\n",
        "print(is_prime(7))\n",
        "def your_function_15():\n",
        "    pass"
      ]
    },
    {
      "cell_type": "markdown",
      "id": "b63452cb",
      "metadata": {
        "id": "b63452cb"
      },
      "source": [
        "### Question 16\n",
        "Write a function to return all even numbers in a list."
      ]
    },
    {
      "cell_type": "code",
      "execution_count": 12,
      "id": "9d1fc968",
      "metadata": {
        "id": "9d1fc968",
        "colab": {
          "base_uri": "https://localhost:8080/"
        },
        "outputId": "10e63399-6fc3-44e7-9db7-d67b95b8891c"
      },
      "outputs": [
        {
          "output_type": "stream",
          "name": "stdout",
          "text": [
            "[2, 4, 6]\n"
          ]
        }
      ],
      "source": [
        "def get_even_numbers(lst):\n",
        "    return [num for num in lst if num % 2 == 0]\n",
        "numbers = [1, 2, 3, 4, 5, 6]\n",
        "print(get_even_numbers(numbers))\n",
        "def your_function_16():\n",
        "    pass"
      ]
    },
    {
      "cell_type": "markdown",
      "id": "aca524d9",
      "metadata": {
        "id": "aca524d9"
      },
      "source": [
        "### Question 17\n",
        "Write a function to return the nth Fibonacci number."
      ]
    },
    {
      "cell_type": "code",
      "execution_count": 15,
      "id": "97dc4e87",
      "metadata": {
        "id": "97dc4e87",
        "colab": {
          "base_uri": "https://localhost:8080/"
        },
        "outputId": "d0d8a421-3a5a-4300-be16-992aa0543479"
      },
      "outputs": [
        {
          "output_type": "stream",
          "name": "stdout",
          "text": [
            "0\n"
          ]
        }
      ],
      "source": [
        "def fibonacci(n):\n",
        "    if n <= 0:\n",
        "        return \"Invalid input\"\n",
        "    elif n == 1:\n",
        "        return 0\n",
        "    elif n == 2:\n",
        "        return 1\n",
        "    a, b = 0, 1\n",
        "    for _ in range(2, n):\n",
        "        a, b = b, a + b\n",
        "    return b\n",
        "print(fibonacci(1))\n",
        "def your_function_17():\n",
        "    pass"
      ]
    },
    {
      "cell_type": "markdown",
      "id": "29c847dc",
      "metadata": {
        "id": "29c847dc"
      },
      "source": [
        "### Question 18\n",
        "Write a function to calculate the average of a list."
      ]
    },
    {
      "cell_type": "code",
      "execution_count": 17,
      "id": "9adc9fd2",
      "metadata": {
        "id": "9adc9fd2",
        "colab": {
          "base_uri": "https://localhost:8080/"
        },
        "outputId": "d9c87836-ea5b-4f48-92e8-4f32731ed5fd"
      },
      "outputs": [
        {
          "output_type": "stream",
          "name": "stdout",
          "text": [
            "25.0\n"
          ]
        }
      ],
      "source": [
        "def calculate_average(lst):\n",
        "    return sum(lst) / len(lst)\n",
        "numbers = [10, 20, 30, 40]\n",
        "print(calculate_average(numbers))\n",
        "def your_function_18():\n",
        "    pass"
      ]
    },
    {
      "cell_type": "markdown",
      "id": "420240fb",
      "metadata": {
        "id": "420240fb"
      },
      "source": [
        "### Question 19\n",
        "Write a function that returns a dictionary of character counts."
      ]
    },
    {
      "cell_type": "code",
      "execution_count": 18,
      "id": "95cafc54",
      "metadata": {
        "id": "95cafc54",
        "colab": {
          "base_uri": "https://localhost:8080/"
        },
        "outputId": "21ef80f6-5dab-461c-983f-2e56e69b8ab6"
      },
      "outputs": [
        {
          "output_type": "stream",
          "name": "stdout",
          "text": [
            "{'h': 1, 'e': 1, 'l': 2, 'o': 1}\n"
          ]
        }
      ],
      "source": [
        "def character_count(string):\n",
        "    count = {}\n",
        "    for char in string:\n",
        "        if char in count:\n",
        "            count[char] += 1\n",
        "        else:\n",
        "            count[char] = 1\n",
        "    return count\n",
        "print(character_count(\"hello\"))\n",
        "def your_function_19():\n",
        "    pass"
      ]
    },
    {
      "cell_type": "markdown",
      "id": "17629a07",
      "metadata": {
        "id": "17629a07"
      },
      "source": [
        "### Question 20\n",
        "Write a function that returns True if all list elements are unique."
      ]
    },
    {
      "cell_type": "code",
      "execution_count": 19,
      "id": "fe4f8820",
      "metadata": {
        "id": "fe4f8820",
        "colab": {
          "base_uri": "https://localhost:8080/"
        },
        "outputId": "d4f13139-0503-42cc-b853-35dc1bd76c8b"
      },
      "outputs": [
        {
          "output_type": "stream",
          "name": "stdout",
          "text": [
            "True\n"
          ]
        }
      ],
      "source": [
        "def all_unique(lst):\n",
        "    return len(lst) == len(set(lst))\n",
        "numbers = [1, 2, 3, 4, 5]\n",
        "print(all_unique(numbers))\n",
        "def your_function_20():\n",
        "    pass"
      ]
    }
  ],
  "metadata": {
    "language_info": {
      "name": "python"
    },
    "colab": {
      "provenance": []
    },
    "kernelspec": {
      "name": "python3",
      "display_name": "Python 3"
    }
  },
  "nbformat": 4,
  "nbformat_minor": 5
}